{
  "nbformat": 4,
  "nbformat_minor": 0,
  "metadata": {
    "colab": {
      "provenance": [],
      "include_colab_link": true
    },
    "kernelspec": {
      "name": "python3",
      "display_name": "Python 3"
    },
    "language_info": {
      "name": "python"
    }
  },
  "cells": [
    {
      "cell_type": "markdown",
      "metadata": {
        "id": "view-in-github",
        "colab_type": "text"
      },
      "source": [
        "<a href=\"https://colab.research.google.com/github/Prathyusha770/Movies-dataset-pandas/blob/main/movies_dataset_pandas_assignment.ipynb\" target=\"_parent\"><img src=\"https://colab.research.google.com/assets/colab-badge.svg\" alt=\"Open In Colab\"/></a>"
      ]
    },
    {
      "cell_type": "code",
      "execution_count": null,
      "metadata": {
        "id": "AloYXBGgQ79O"
      },
      "outputs": [],
      "source": [
        "import pandas as pd"
      ]
    },
    {
      "cell_type": "code",
      "source": [
        "df = pd.read_excel(\"Movies_Dataset.xlsx\")\n",
        "print(df)"
      ],
      "metadata": {
        "colab": {
          "base_uri": "https://localhost:8080/"
        },
        "id": "SDUAWSm0RFBM",
        "outputId": "93c20be0-aae5-4aed-e96f-fb5fd964049e"
      },
      "execution_count": null,
      "outputs": [
        {
          "output_type": "stream",
          "name": "stdout",
          "text": [
            "     Movie Name      Genre  Release_Year  IMDb_Rating  Revenue\n",
            "0       Movie 1     Sci-Fi          2000          6.0  1680.53\n",
            "1       Movie 2  Adventure          2000          2.2   987.24\n",
            "2       Movie 3    Romance          2002          5.2  1122.13\n",
            "3       Movie 4    Romance          2001          4.5   581.84\n",
            "4       Movie 5     Action          2012          6.6  1205.51\n",
            "..          ...        ...           ...          ...      ...\n",
            "995   Movie 996     Sci-Fi          2013          8.7   456.39\n",
            "996   Movie 997  Adventure          1993          6.2  1255.27\n",
            "997   Movie 998    Fantasy          2016          8.1  1161.96\n",
            "998   Movie 999     Action          1996          8.9   941.67\n",
            "999  Movie 1000     Horror          1995          9.4  1390.70\n",
            "\n",
            "[1000 rows x 5 columns]\n"
          ]
        }
      ]
    },
    {
      "cell_type": "code",
      "source": [
        "action_movies = df[df['Genre'] == 'Action']\n",
        "print(action_movies)"
      ],
      "metadata": {
        "colab": {
          "base_uri": "https://localhost:8080/"
        },
        "id": "RzG5NYrlRUGg",
        "outputId": "0e68fb9c-006c-4615-c7f2-b723e6f18783"
      },
      "execution_count": null,
      "outputs": [
        {
          "output_type": "stream",
          "name": "stdout",
          "text": [
            "    Movie Name   Genre  Release_Year  IMDb_Rating  Revenue\n",
            "4      Movie 5  Action          2012          6.6  1205.51\n",
            "34    Movie 35  Action          2009          8.7   545.60\n",
            "64    Movie 65  Action          2023          7.7  1137.79\n",
            "65    Movie 66  Action          1999          3.1  1335.85\n",
            "73    Movie 74  Action          2001          4.1   350.80\n",
            "..         ...     ...           ...          ...      ...\n",
            "930  Movie 931  Action          1994          8.6  1863.66\n",
            "944  Movie 945  Action          2004          7.5  1709.81\n",
            "980  Movie 981  Action          2022          5.2    28.40\n",
            "988  Movie 989  Action          2023          4.1   231.67\n",
            "998  Movie 999  Action          1996          8.9   941.67\n",
            "\n",
            "[104 rows x 5 columns]\n"
          ]
        }
      ]
    },
    {
      "source": [
        "movies_after_2000 = df[df['Release_Year'] > 2000]\n",
        "print(movies_after_2000)"
      ],
      "cell_type": "code",
      "metadata": {
        "colab": {
          "base_uri": "https://localhost:8080/"
        },
        "id": "hzX6DF8DRvCX",
        "outputId": "4367889f-7067-42a1-bd85-435ae48d7647"
      },
      "execution_count": null,
      "outputs": [
        {
          "output_type": "stream",
          "name": "stdout",
          "text": [
            "    Movie Name     Genre  Release_Year  IMDb_Rating  Revenue\n",
            "2      Movie 3   Romance          2002          5.2  1122.13\n",
            "3      Movie 4   Romance          2001          4.5   581.84\n",
            "4      Movie 5    Action          2012          6.6  1205.51\n",
            "6      Movie 7   Mystery          2021          5.1  1683.99\n",
            "7      Movie 8    Comedy          2005          4.0  1062.13\n",
            "..         ...       ...           ...          ...      ...\n",
            "988  Movie 989    Action          2023          4.1   231.67\n",
            "989  Movie 990   Fantasy          2004          1.6  1056.58\n",
            "991  Movie 992  Thriller          2004          9.2   251.25\n",
            "995  Movie 996    Sci-Fi          2013          8.7   456.39\n",
            "997  Movie 998   Fantasy          2016          8.1  1161.96\n",
            "\n",
            "[518 rows x 5 columns]\n"
          ]
        }
      ]
    },
    {
      "source": [
        "high_rated_movies = df[df['IMDb_Rating'] > 8.5]\n",
        "print(high_rated_movies)"
      ],
      "cell_type": "code",
      "metadata": {
        "colab": {
          "base_uri": "https://localhost:8080/"
        },
        "id": "yoMU5zaqSCJA",
        "outputId": "997c9ca8-86f2-4984-b7b0-715905859ca5"
      },
      "execution_count": null,
      "outputs": [
        {
          "output_type": "stream",
          "name": "stdout",
          "text": [
            "     Movie Name      Genre  Release_Year  IMDb_Rating  Revenue\n",
            "34     Movie 35     Action          2009          8.7   545.60\n",
            "51     Movie 52    Mystery          1998          9.0  1089.93\n",
            "56     Movie 57     Comedy          1993          9.2  1586.13\n",
            "74     Movie 75  Adventure          1999          8.6  1688.49\n",
            "81     Movie 82    Mystery          1997          8.6  1238.32\n",
            "..          ...        ...           ...          ...      ...\n",
            "991   Movie 992   Thriller          2004          9.2   251.25\n",
            "992   Movie 993     Horror          1985          9.6   951.23\n",
            "995   Movie 996     Sci-Fi          2013          8.7   456.39\n",
            "998   Movie 999     Action          1996          8.9   941.67\n",
            "999  Movie 1000     Horror          1995          9.4  1390.70\n",
            "\n",
            "[148 rows x 5 columns]\n"
          ]
        }
      ]
    },
    {
      "cell_type": "code",
      "source": [
        "action_movies = df[['Movie Name','Genre']]\n",
        "print(action_movies)"
      ],
      "metadata": {
        "colab": {
          "base_uri": "https://localhost:8080/"
        },
        "id": "PDDyUPW0SFq-",
        "outputId": "6231a003-0bef-4325-d65b-e1b243505add"
      },
      "execution_count": null,
      "outputs": [
        {
          "output_type": "stream",
          "name": "stdout",
          "text": [
            "     Movie Name      Genre\n",
            "0       Movie 1     Sci-Fi\n",
            "1       Movie 2  Adventure\n",
            "2       Movie 3    Romance\n",
            "3       Movie 4    Romance\n",
            "4       Movie 5     Action\n",
            "..          ...        ...\n",
            "995   Movie 996     Sci-Fi\n",
            "996   Movie 997  Adventure\n",
            "997   Movie 998    Fantasy\n",
            "998   Movie 999     Action\n",
            "999  Movie 1000     Horror\n",
            "\n",
            "[1000 rows x 2 columns]\n"
          ]
        }
      ]
    },
    {
      "source": [
        "movies_between_years = df[(df['Release_Year'] >= 1990) & (df['Release_Year'] <= 2010)]\n",
        "print(movies_between_years)"
      ],
      "cell_type": "code",
      "metadata": {
        "colab": {
          "base_uri": "https://localhost:8080/"
        },
        "id": "j31G75KYSvKy",
        "outputId": "5647d0cd-5e7e-4f23-bf91-ef02935b8ebe"
      },
      "execution_count": null,
      "outputs": [
        {
          "output_type": "stream",
          "name": "stdout",
          "text": [
            "     Movie Name      Genre  Release_Year  IMDb_Rating  Revenue\n",
            "0       Movie 1     Sci-Fi          2000          6.0  1680.53\n",
            "1       Movie 2  Adventure          2000          2.2   987.24\n",
            "2       Movie 3    Romance          2002          5.2  1122.13\n",
            "3       Movie 4    Romance          2001          4.5   581.84\n",
            "5       Movie 6    Fantasy          1997          2.4   485.22\n",
            "..          ...        ...           ...          ...      ...\n",
            "991   Movie 992   Thriller          2004          9.2   251.25\n",
            "994   Movie 995     Sci-Fi          1997          2.0   342.98\n",
            "996   Movie 997  Adventure          1993          6.2  1255.27\n",
            "998   Movie 999     Action          1996          8.9   941.67\n",
            "999  Movie 1000     Horror          1995          9.4  1390.70\n",
            "\n",
            "[500 rows x 5 columns]\n"
          ]
        }
      ]
    },
    {
      "source": [
        "genre_counts = df['Genre'].value_counts()\n",
        "print(genre_counts)"
      ],
      "cell_type": "code",
      "metadata": {
        "colab": {
          "base_uri": "https://localhost:8080/"
        },
        "id": "7VZHkmH-S1J-",
        "outputId": "b71dc9a6-fd7c-4d02-991d-6067964a294d"
      },
      "execution_count": null,
      "outputs": [
        {
          "output_type": "stream",
          "name": "stdout",
          "text": [
            "Genre\n",
            "Drama        113\n",
            "Comedy       110\n",
            "Fantasy      107\n",
            "Thriller     107\n",
            "Action       104\n",
            "Adventure     96\n",
            "Sci-Fi        93\n",
            "Romance       91\n",
            "Horror        90\n",
            "Mystery       89\n",
            "Name: count, dtype: int64\n"
          ]
        }
      ]
    },
    {
      "source": [
        "highest_rated_movie = df.loc[df['IMDb_Rating'].idxmax()]\n",
        "print(highest_rated_movie)"
      ],
      "cell_type": "code",
      "metadata": {
        "colab": {
          "base_uri": "https://localhost:8080/"
        },
        "id": "oGBNtLgmS3jk",
        "outputId": "2735c43e-020a-497d-c032-224b056f3f73"
      },
      "execution_count": null,
      "outputs": [
        {
          "output_type": "stream",
          "name": "stdout",
          "text": [
            "Movie Name      Movie 107\n",
            "Genre             Romance\n",
            "Release_Year         2007\n",
            "IMDb_Rating          10.0\n",
            "Revenue           1837.45\n",
            "Name: 106, dtype: object\n"
          ]
        }
      ]
    },
    {
      "source": [
        "average_rating = df['IMDb_Rating'].mean()\n",
        "print(average_rating)"
      ],
      "cell_type": "code",
      "metadata": {
        "colab": {
          "base_uri": "https://localhost:8080/"
        },
        "id": "zxj2LzZhS9PU",
        "outputId": "c8568108-844d-4cbd-ec0b-38ec7fce51a9"
      },
      "execution_count": null,
      "outputs": [
        {
          "output_type": "stream",
          "name": "stdout",
          "text": [
            "5.458600000000001\n"
          ]
        }
      ]
    },
    {
      "source": [
        "total_box_office = df['Revenue'].sum()\n",
        "print(total_box_office)"
      ],
      "cell_type": "code",
      "metadata": {
        "colab": {
          "base_uri": "https://localhost:8080/"
        },
        "id": "MSdWodoUTVJf",
        "outputId": "04646f39-70ff-4f49-b077-40bf28ad5190"
      },
      "execution_count": null,
      "outputs": [
        {
          "output_type": "stream",
          "name": "stdout",
          "text": [
            "1049716.26\n"
          ]
        }
      ]
    },
    {
      "cell_type": "code",
      "source": [
        "total_box_office = df[df['Revenue']>500]\n",
        "print(total_box_office)"
      ],
      "metadata": {
        "colab": {
          "base_uri": "https://localhost:8080/"
        },
        "id": "SMKml-wUTl8r",
        "outputId": "62ca4908-7c76-458a-d6da-0a8695d66e4e"
      },
      "execution_count": null,
      "outputs": [
        {
          "output_type": "stream",
          "name": "stdout",
          "text": [
            "     Movie Name      Genre  Release_Year  IMDb_Rating  Revenue\n",
            "0       Movie 1     Sci-Fi          2000          6.0  1680.53\n",
            "1       Movie 2  Adventure          2000          2.2   987.24\n",
            "2       Movie 3    Romance          2002          5.2  1122.13\n",
            "3       Movie 4    Romance          2001          4.5   581.84\n",
            "4       Movie 5     Action          2012          6.6  1205.51\n",
            "..          ...        ...           ...          ...      ...\n",
            "993   Movie 994  Adventure          1989          7.3  1273.65\n",
            "996   Movie 997  Adventure          1993          6.2  1255.27\n",
            "997   Movie 998    Fantasy          2016          8.1  1161.96\n",
            "998   Movie 999     Action          1996          8.9   941.67\n",
            "999  Movie 1000     Horror          1995          9.4  1390.70\n",
            "\n",
            "[774 rows x 5 columns]\n"
          ]
        }
      ]
    },
    {
      "source": [
        "df['Rank'] = df['IMDb_Rating'].rank(ascending=False)\n",
        "print(df[['Movie Name', 'IMDb_Rating', 'Rank']])"
      ],
      "cell_type": "code",
      "metadata": {
        "colab": {
          "base_uri": "https://localhost:8080/"
        },
        "id": "XKWx4i9CUEyB",
        "outputId": "e01d1f42-2a0d-4449-aa80-1afb0656e5bc"
      },
      "execution_count": null,
      "outputs": [
        {
          "output_type": "stream",
          "name": "stdout",
          "text": [
            "     Movie Name  IMDb_Rating   Rank\n",
            "0       Movie 1          6.0  432.5\n",
            "1       Movie 2          2.2  869.0\n",
            "2       Movie 3          5.2  529.5\n",
            "3       Movie 4          4.5  609.5\n",
            "4       Movie 5          6.6  353.5\n",
            "..          ...          ...    ...\n",
            "995   Movie 996          8.7  131.5\n",
            "996   Movie 997          6.2  406.5\n",
            "997   Movie 998          8.1  199.5\n",
            "998   Movie 999          8.9  104.5\n",
            "999  Movie 1000          9.4   54.0\n",
            "\n",
            "[1000 rows x 3 columns]\n"
          ]
        }
      ]
    },
    {
      "source": [
        "sorted_movies = df.sort_values(by='Release_Year', ascending=False)\n",
        "print(sorted_movies)"
      ],
      "cell_type": "code",
      "metadata": {
        "colab": {
          "base_uri": "https://localhost:8080/"
        },
        "id": "ZLuLbfJoULuF",
        "outputId": "39fdb2e1-ac1a-4310-8eae-a1969084e3f6"
      },
      "execution_count": null,
      "outputs": [
        {
          "output_type": "stream",
          "name": "stdout",
          "text": [
            "    Movie Name      Genre  Release_Year  IMDb_Rating  Revenue   Rank\n",
            "320  Movie 321    Romance          2024          4.2   477.47  650.5\n",
            "211  Movie 212     Comedy          2024          1.5   837.32  957.0\n",
            "489  Movie 490   Thriller          2024          3.2  1536.79  765.5\n",
            "808  Movie 809     Action          2024          6.0   714.96  432.5\n",
            "917  Movie 918     Horror          2024          1.1  1042.80  991.0\n",
            "..         ...        ...           ...          ...      ...    ...\n",
            "509  Movie 510    Fantasy          1980          6.3  1260.11  392.0\n",
            "798  Movie 799      Drama          1980          3.1  1587.13  774.0\n",
            "496  Movie 497    Fantasy          1980          4.7  1683.97  588.0\n",
            "794  Movie 795  Adventure          1980          4.5  1346.01  609.5\n",
            "170  Movie 171    Mystery          1980          4.6  1684.78  599.0\n",
            "\n",
            "[1000 rows x 6 columns]\n"
          ]
        }
      ]
    },
    {
      "source": [
        "duplicate_movies = df[df['Movie Name'].duplicated()]\n",
        "print(duplicate_movies)"
      ],
      "cell_type": "code",
      "metadata": {
        "colab": {
          "base_uri": "https://localhost:8080/"
        },
        "id": "JydemtwIUPMW",
        "outputId": "5b4f89e1-d031-444c-856b-c93b1294cc61"
      },
      "execution_count": null,
      "outputs": [
        {
          "output_type": "stream",
          "name": "stdout",
          "text": [
            "   Movie Name      Genre  Release_Year  IMDb_Rating  Revenue   Rank\n",
            "12   Movie 10      Drama          1996          3.2  1352.66  765.5\n",
            "13   Movie 11    Mystery          2003          6.3   596.43  392.0\n",
            "14   Movie 12     Sci-Fi          1988          3.0  1134.01  786.5\n",
            "20   Movie 16     Comedy          2006          2.3  1322.79  856.0\n",
            "21   Movie 17     Horror          2007          6.2  1114.31  406.5\n",
            "22   Movie 18  Adventure          1998          7.9  1426.73  221.0\n",
            "23   Movie 19     Comedy          1986          6.0  1783.44  432.5\n",
            "24   Movie 20    Fantasy          1982          6.9  1598.08  329.0\n"
          ]
        }
      ]
    },
    {
      "source": [
        "df.drop_duplicates(subset=['Movie Name'], inplace=True)\n",
        "print(df)"
      ],
      "cell_type": "code",
      "metadata": {
        "colab": {
          "base_uri": "https://localhost:8080/"
        },
        "id": "Mf3zifnGURQf",
        "outputId": "578e87e3-e8e2-4890-afce-9f9f4ea2d55b"
      },
      "execution_count": null,
      "outputs": [
        {
          "output_type": "stream",
          "name": "stdout",
          "text": [
            "     Movie Name      Genre  Release_Year  IMDb_Rating  Revenue   Rank\n",
            "0       Movie 1     Sci-Fi          2000          6.0  1680.53  432.5\n",
            "1       Movie 2  Adventure          2000          2.2   987.24  869.0\n",
            "2       Movie 3    Romance          2002          5.2  1122.13  529.5\n",
            "3       Movie 4    Romance          2001          4.5   581.84  609.5\n",
            "4       Movie 5     Action          2012          6.6  1205.51  353.5\n",
            "..          ...        ...           ...          ...      ...    ...\n",
            "995   Movie 996     Sci-Fi          2013          8.7   456.39  131.5\n",
            "996   Movie 997  Adventure          1993          6.2  1255.27  406.5\n",
            "997   Movie 998    Fantasy          2016          8.1  1161.96  199.5\n",
            "998   Movie 999     Action          1996          8.9   941.67  104.5\n",
            "999  Movie 1000     Horror          1995          9.4  1390.70   54.0\n",
            "\n",
            "[992 rows x 6 columns]\n"
          ]
        }
      ]
    },
    {
      "source": [
        "df['Genre'] = df['Genre'].replace('Sci-Fi', 'Science Fiction')\n",
        "print(df)"
      ],
      "cell_type": "code",
      "metadata": {
        "colab": {
          "base_uri": "https://localhost:8080/"
        },
        "id": "75lI3mOjUVzR",
        "outputId": "b802a19c-9524-4aa2-b59f-9503785171b2"
      },
      "execution_count": null,
      "outputs": [
        {
          "output_type": "stream",
          "name": "stdout",
          "text": [
            "     Movie Name            Genre  Release_Year  IMDb_Rating  Revenue   Rank\n",
            "0       Movie 1  Science Fiction          2000          6.0  1680.53  432.5\n",
            "1       Movie 2        Adventure          2000          2.2   987.24  869.0\n",
            "2       Movie 3          Romance          2002          5.2  1122.13  529.5\n",
            "3       Movie 4          Romance          2001          4.5   581.84  609.5\n",
            "4       Movie 5           Action          2012          6.6  1205.51  353.5\n",
            "..          ...              ...           ...          ...      ...    ...\n",
            "995   Movie 996  Science Fiction          2013          8.7   456.39  131.5\n",
            "996   Movie 997        Adventure          1993          6.2  1255.27  406.5\n",
            "997   Movie 998          Fantasy          2016          8.1  1161.96  199.5\n",
            "998   Movie 999           Action          1996          8.9   941.67  104.5\n",
            "999  Movie 1000           Horror          1995          9.4  1390.70   54.0\n",
            "\n",
            "[992 rows x 6 columns]\n"
          ]
        }
      ]
    },
    {
      "source": [
        "first_10_movies = df.head(10)\n",
        "print(first_10_movies)"
      ],
      "cell_type": "code",
      "metadata": {
        "colab": {
          "base_uri": "https://localhost:8080/"
        },
        "id": "BhuLP5ozUYks",
        "outputId": "33b9dafc-1753-4c2e-c5eb-b2dc04de552e"
      },
      "execution_count": null,
      "outputs": [
        {
          "output_type": "stream",
          "name": "stdout",
          "text": [
            "  Movie Name            Genre  Release_Year  IMDb_Rating  Revenue   Rank\n",
            "0    Movie 1  Science Fiction          2000          6.0  1680.53  432.5\n",
            "1    Movie 2        Adventure          2000          2.2   987.24  869.0\n",
            "2    Movie 3          Romance          2002          5.2  1122.13  529.5\n",
            "3    Movie 4          Romance          2001          4.5   581.84  609.5\n",
            "4    Movie 5           Action          2012          6.6  1205.51  353.5\n",
            "5    Movie 6          Fantasy          1997          2.4   485.22  844.5\n",
            "6    Movie 7          Mystery          2021          5.1  1683.99  545.5\n",
            "7    Movie 8           Comedy          2005          4.0  1062.13  672.5\n",
            "8    Movie 9           Horror          1992          2.8  1592.74  815.0\n",
            "9   Movie 10            Drama          1996          3.2  1352.66  765.5\n"
          ]
        }
      ]
    },
    {
      "source": [
        "last_5_movies = df.tail(5)\n",
        "print(last_5_movies)"
      ],
      "cell_type": "code",
      "metadata": {
        "colab": {
          "base_uri": "https://localhost:8080/"
        },
        "id": "Fv1jRK8JUa2h",
        "outputId": "f3c53d64-02cf-4b6b-f4d3-5fd9c2610396"
      },
      "execution_count": null,
      "outputs": [
        {
          "output_type": "stream",
          "name": "stdout",
          "text": [
            "     Movie Name            Genre  Release_Year  IMDb_Rating  Revenue   Rank\n",
            "995   Movie 996  Science Fiction          2013          8.7   456.39  131.5\n",
            "996   Movie 997        Adventure          1993          6.2  1255.27  406.5\n",
            "997   Movie 998          Fantasy          2016          8.1  1161.96  199.5\n",
            "998   Movie 999           Action          1996          8.9   941.67  104.5\n",
            "999  Movie 1000           Horror          1995          9.4  1390.70   54.0\n"
          ]
        }
      ]
    },
    {
      "source": [
        "average_rating_by_genre = df.groupby('Genre')['IMDb_Rating'].mean()\n",
        "print(average_rating_by_genre)"
      ],
      "cell_type": "code",
      "metadata": {
        "colab": {
          "base_uri": "https://localhost:8080/"
        },
        "id": "o5V87pb1Uco2",
        "outputId": "56ef6363-b6de-4868-e2a5-655e324051d2"
      },
      "execution_count": null,
      "outputs": [
        {
          "output_type": "stream",
          "name": "stdout",
          "text": [
            "Genre\n",
            "Action             5.670192\n",
            "Adventure          4.982105\n",
            "Comedy             5.466667\n",
            "Drama              5.191071\n",
            "Fantasy            5.183962\n",
            "Horror             5.810112\n",
            "Mystery            5.772727\n",
            "Romance            5.938462\n",
            "Science Fiction    5.471739\n",
            "Thriller           5.267290\n",
            "Name: IMDb_Rating, dtype: float64\n"
          ]
        }
      ]
    },
    {
      "source": [
        "movies_per_year = df['Release_Year'].value_counts().sort_index()\n",
        "print(movies_per_year)"
      ],
      "cell_type": "code",
      "metadata": {
        "colab": {
          "base_uri": "https://localhost:8080/"
        },
        "id": "5SNovjhDUii3",
        "outputId": "33db6694-d8cf-434b-ac4b-b46000adf128"
      },
      "execution_count": null,
      "outputs": [
        {
          "output_type": "stream",
          "name": "stdout",
          "text": [
            "Release_Year\n",
            "1980    26\n",
            "1981    17\n",
            "1982    20\n",
            "1983    16\n",
            "1984    16\n",
            "1985    28\n",
            "1986    20\n",
            "1987    17\n",
            "1988    19\n",
            "1989    30\n",
            "1990    21\n",
            "1991    21\n",
            "1992    26\n",
            "1993    21\n",
            "1994    23\n",
            "1995    27\n",
            "1996    25\n",
            "1997    22\n",
            "1998    28\n",
            "1999    25\n",
            "2000    29\n",
            "2001    23\n",
            "2002    24\n",
            "2003    24\n",
            "2004    20\n",
            "2005    21\n",
            "2006    22\n",
            "2007    28\n",
            "2008    24\n",
            "2009    21\n",
            "2010    20\n",
            "2011    23\n",
            "2012    20\n",
            "2013    26\n",
            "2014    20\n",
            "2015    23\n",
            "2016    14\n",
            "2017    18\n",
            "2018    18\n",
            "2019    15\n",
            "2020    20\n",
            "2021    16\n",
            "2022    25\n",
            "2023    18\n",
            "2024    32\n",
            "Name: count, dtype: int64\n"
          ]
        }
      ]
    },
    {
      "source": [
        "box_office_per_genre = df.groupby('Genre')['Revenue'].sum()\n",
        "print(box_office_per_genre)"
      ],
      "cell_type": "code",
      "metadata": {
        "colab": {
          "base_uri": "https://localhost:8080/"
        },
        "id": "6dKOwN6WUooc",
        "outputId": "37dcbc82-dd46-454b-f642-da7dd76de3e4"
      },
      "execution_count": null,
      "outputs": [
        {
          "output_type": "stream",
          "name": "stdout",
          "text": [
            "Genre\n",
            "Action             111137.94\n",
            "Adventure          102437.69\n",
            "Comedy             119580.40\n",
            "Drama              118958.66\n",
            "Fantasy            108251.78\n",
            "Horror              89281.21\n",
            "Mystery             98236.50\n",
            "Romance             94413.72\n",
            "Science Fiction     84677.79\n",
            "Thriller           112412.12\n",
            "Name: Revenue, dtype: float64\n"
          ]
        }
      ]
    }
  ]
}